{
 "cells": [
  {
   "cell_type": "code",
   "execution_count": 1,
   "id": "cba12dba",
   "metadata": {},
   "outputs": [],
   "source": [
    "#import the data \n",
    "import pandas as pd\n",
    "import os\n",
    "import matplotlib.pyplot as plt\n",
    "import seaborn as sns"
   ]
  },
  {
   "cell_type": "code",
   "execution_count": 2,
   "id": "03aa8bdb",
   "metadata": {},
   "outputs": [
    {
     "name": "stdout",
     "output_type": "stream",
     "text": [
      "     AGE  FEMALE  LOS  RACE  TOTCHG  APRDRG\n",
      "0     17       1    2   1.0    2660     560\n",
      "1     17       0    2   1.0    1689     753\n",
      "2     17       1    7   1.0   20060     930\n",
      "3     17       1    1   1.0     736     758\n",
      "4     17       1    1   1.0    1194     754\n",
      "..   ...     ...  ...   ...     ...     ...\n",
      "495    0       1    6   1.0    5881     636\n",
      "496    0       1    2   1.0    1171     640\n",
      "497    0       1    2   1.0    1171     640\n",
      "498    0       1    2   1.0    1086     640\n",
      "499    0       0    4   1.0    4931     640\n",
      "\n",
      "[500 rows x 6 columns]\n"
     ]
    }
   ],
   "source": [
    "#Load the data\n",
    "df = pd.read_excel('C:/Users/Samuel Kim/Downloads/HospitalCosts.xlsx' )\n",
    "print(df)"
   ]
  },
  {
   "cell_type": "code",
   "execution_count": 3,
   "id": "12f76bb6",
   "metadata": {},
   "outputs": [
    {
     "data": {
      "text/html": [
       "<div>\n",
       "<style scoped>\n",
       "    .dataframe tbody tr th:only-of-type {\n",
       "        vertical-align: middle;\n",
       "    }\n",
       "\n",
       "    .dataframe tbody tr th {\n",
       "        vertical-align: top;\n",
       "    }\n",
       "\n",
       "    .dataframe thead th {\n",
       "        text-align: right;\n",
       "    }\n",
       "</style>\n",
       "<table border=\"1\" class=\"dataframe\">\n",
       "  <thead>\n",
       "    <tr style=\"text-align: right;\">\n",
       "      <th></th>\n",
       "      <th>AGE</th>\n",
       "      <th>FEMALE</th>\n",
       "      <th>LOS</th>\n",
       "      <th>RACE</th>\n",
       "      <th>TOTCHG</th>\n",
       "      <th>APRDRG</th>\n",
       "    </tr>\n",
       "  </thead>\n",
       "  <tbody>\n",
       "    <tr>\n",
       "      <th>0</th>\n",
       "      <td>17</td>\n",
       "      <td>1</td>\n",
       "      <td>2</td>\n",
       "      <td>1.0</td>\n",
       "      <td>2660</td>\n",
       "      <td>560</td>\n",
       "    </tr>\n",
       "    <tr>\n",
       "      <th>1</th>\n",
       "      <td>17</td>\n",
       "      <td>0</td>\n",
       "      <td>2</td>\n",
       "      <td>1.0</td>\n",
       "      <td>1689</td>\n",
       "      <td>753</td>\n",
       "    </tr>\n",
       "    <tr>\n",
       "      <th>2</th>\n",
       "      <td>17</td>\n",
       "      <td>1</td>\n",
       "      <td>7</td>\n",
       "      <td>1.0</td>\n",
       "      <td>20060</td>\n",
       "      <td>930</td>\n",
       "    </tr>\n",
       "    <tr>\n",
       "      <th>3</th>\n",
       "      <td>17</td>\n",
       "      <td>1</td>\n",
       "      <td>1</td>\n",
       "      <td>1.0</td>\n",
       "      <td>736</td>\n",
       "      <td>758</td>\n",
       "    </tr>\n",
       "    <tr>\n",
       "      <th>4</th>\n",
       "      <td>17</td>\n",
       "      <td>1</td>\n",
       "      <td>1</td>\n",
       "      <td>1.0</td>\n",
       "      <td>1194</td>\n",
       "      <td>754</td>\n",
       "    </tr>\n",
       "  </tbody>\n",
       "</table>\n",
       "</div>"
      ],
      "text/plain": [
       "   AGE  FEMALE  LOS  RACE  TOTCHG  APRDRG\n",
       "0   17       1    2   1.0    2660     560\n",
       "1   17       0    2   1.0    1689     753\n",
       "2   17       1    7   1.0   20060     930\n",
       "3   17       1    1   1.0     736     758\n",
       "4   17       1    1   1.0    1194     754"
      ]
     },
     "execution_count": 3,
     "metadata": {},
     "output_type": "execute_result"
    }
   ],
   "source": [
    "# head() function to see the first five\n",
    "df.head()"
   ]
  },
  {
   "cell_type": "code",
   "execution_count": 4,
   "id": "892f6dfb",
   "metadata": {},
   "outputs": [
    {
     "name": "stdout",
     "output_type": "stream",
     "text": [
      "     AGE  GENDER  LOS  RACE  TOTCHG  APRDRG\n",
      "0     17       1    2   1.0    2660     560\n",
      "1     17       0    2   1.0    1689     753\n",
      "2     17       1    7   1.0   20060     930\n",
      "3     17       1    1   1.0     736     758\n",
      "4     17       1    1   1.0    1194     754\n",
      "..   ...     ...  ...   ...     ...     ...\n",
      "495    0       1    6   1.0    5881     636\n",
      "496    0       1    2   1.0    1171     640\n",
      "497    0       1    2   1.0    1171     640\n",
      "498    0       1    2   1.0    1086     640\n",
      "499    0       0    4   1.0    4931     640\n",
      "\n",
      "[500 rows x 6 columns]\n"
     ]
    }
   ],
   "source": [
    "#renaming the column female\n",
    "df = df.rename(columns={'FEMALE':'GENDER'})\n",
    "print(df)"
   ]
  },
  {
   "cell_type": "code",
   "execution_count": 5,
   "id": "0b36e000",
   "metadata": {},
   "outputs": [
    {
     "data": {
      "text/html": [
       "<div>\n",
       "<style scoped>\n",
       "    .dataframe tbody tr th:only-of-type {\n",
       "        vertical-align: middle;\n",
       "    }\n",
       "\n",
       "    .dataframe tbody tr th {\n",
       "        vertical-align: top;\n",
       "    }\n",
       "\n",
       "    .dataframe thead th {\n",
       "        text-align: right;\n",
       "    }\n",
       "</style>\n",
       "<table border=\"1\" class=\"dataframe\">\n",
       "  <thead>\n",
       "    <tr style=\"text-align: right;\">\n",
       "      <th></th>\n",
       "      <th>0</th>\n",
       "      <th>1</th>\n",
       "    </tr>\n",
       "  </thead>\n",
       "  <tbody>\n",
       "    <tr>\n",
       "      <th>0</th>\n",
       "      <td>0</td>\n",
       "      <td>1</td>\n",
       "    </tr>\n",
       "    <tr>\n",
       "      <th>1</th>\n",
       "      <td>1</td>\n",
       "      <td>0</td>\n",
       "    </tr>\n",
       "    <tr>\n",
       "      <th>2</th>\n",
       "      <td>0</td>\n",
       "      <td>1</td>\n",
       "    </tr>\n",
       "    <tr>\n",
       "      <th>3</th>\n",
       "      <td>0</td>\n",
       "      <td>1</td>\n",
       "    </tr>\n",
       "    <tr>\n",
       "      <th>4</th>\n",
       "      <td>0</td>\n",
       "      <td>1</td>\n",
       "    </tr>\n",
       "  </tbody>\n",
       "</table>\n",
       "</div>"
      ],
      "text/plain": [
       "   0  1\n",
       "0  0  1\n",
       "1  1  0\n",
       "2  0  1\n",
       "3  0  1\n",
       "4  0  1"
      ]
     },
     "execution_count": 5,
     "metadata": {},
     "output_type": "execute_result"
    }
   ],
   "source": [
    "# turning my female column into a dummy 0- male 1-female\n",
    "dummy = pd.get_dummies(df['GENDER'])\n",
    "dummy.head()"
   ]
  },
  {
   "cell_type": "code",
   "execution_count": 6,
   "id": "a4e9a985",
   "metadata": {},
   "outputs": [
    {
     "name": "stdout",
     "output_type": "stream",
     "text": [
      "     AGE  GENDER  LOS  RACE  TOTCHG  APRDRG  0  1\n",
      "0     17       1    2   1.0    2660     560  0  1\n",
      "1     17       0    2   1.0    1689     753  1  0\n",
      "2     17       1    7   1.0   20060     930  0  1\n",
      "3     17       1    1   1.0     736     758  0  1\n",
      "4     17       1    1   1.0    1194     754  0  1\n",
      "..   ...     ...  ...   ...     ...     ... .. ..\n",
      "495    0       1    6   1.0    5881     636  0  1\n",
      "496    0       1    2   1.0    1171     640  0  1\n",
      "497    0       1    2   1.0    1171     640  0  1\n",
      "498    0       1    2   1.0    1086     640  0  1\n",
      "499    0       0    4   1.0    4931     640  1  0\n",
      "\n",
      "[500 rows x 8 columns]\n"
     ]
    }
   ],
   "source": [
    "#conc\n",
    "df = pd.concat([df, dummy], axis=1)\n",
    "print(df)"
   ]
  },
  {
   "cell_type": "code",
   "execution_count": 7,
   "id": "577775c9",
   "metadata": {},
   "outputs": [
    {
     "name": "stdout",
     "output_type": "stream",
     "text": [
      "     AGE  GENDER  LOS  RACE  TOTCHG  APRDRG  0_x  1_x  0_y  1_y\n",
      "0     17       1    2   1.0    2660     560    0    1    0    1\n",
      "1     17       0    2   1.0    1689     753    1    0    1    0\n",
      "2     17       1    7   1.0   20060     930    0    1    0    1\n",
      "3     17       1    1   1.0     736     758    0    1    0    1\n",
      "4     17       1    1   1.0    1194     754    0    1    0    1\n",
      "..   ...     ...  ...   ...     ...     ...  ...  ...  ...  ...\n",
      "495    0       1    6   1.0    5881     636    0    1    0    1\n",
      "496    0       1    2   1.0    1171     640    0    1    0    1\n",
      "497    0       1    2   1.0    1171     640    0    1    0    1\n",
      "498    0       1    2   1.0    1086     640    0    1    0    1\n",
      "499    0       0    4   1.0    4931     640    1    0    1    0\n",
      "\n",
      "[500 rows x 10 columns]\n"
     ]
    }
   ],
   "source": [
    "df = df.merge(dummy, left_index=True, right_index=True)\n",
    "print(df)"
   ]
  },
  {
   "cell_type": "code",
   "execution_count": null,
   "id": "791f0a86",
   "metadata": {},
   "outputs": [],
   "source": []
  }
 ],
 "metadata": {
  "kernelspec": {
   "display_name": "Python 3",
   "language": "python",
   "name": "python3"
  },
  "language_info": {
   "codemirror_mode": {
    "name": "ipython",
    "version": 3
   },
   "file_extension": ".py",
   "mimetype": "text/x-python",
   "name": "python",
   "nbconvert_exporter": "python",
   "pygments_lexer": "ipython3",
   "version": "3.8.8"
  }
 },
 "nbformat": 4,
 "nbformat_minor": 5
}
