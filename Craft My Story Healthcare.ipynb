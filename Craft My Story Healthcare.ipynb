{
 "cells": [
  {
   "cell_type": "code",
   "execution_count": 18,
   "id": "5c2677d9",
   "metadata": {},
   "outputs": [],
   "source": [
    "import pandas as pd\n",
    "import seaborn as sns\n",
    "import matplotlib.pyplot as plt"
   ]
  },
  {
   "cell_type": "code",
   "execution_count": 19,
   "id": "33891642",
   "metadata": {},
   "outputs": [],
   "source": [
    "df= pd.read_csv('C:/Users/Samuel Kim/Downloads/HospitalCosts.csv')"
   ]
  },
  {
   "cell_type": "code",
   "execution_count": 20,
   "id": "5e62cbf5",
   "metadata": {},
   "outputs": [
    {
     "name": "stdout",
     "output_type": "stream",
     "text": [
      "     AGE  FEMALE  LOS  RACE  TOTCHG  APRDRG\n",
      "0     17       1    2   1.0    2660     560\n",
      "1     17       0    2   1.0    1689     753\n",
      "2     17       1    7   1.0   20060     930\n",
      "3     17       1    1   1.0     736     758\n",
      "4     17       1    1   1.0    1194     754\n",
      "..   ...     ...  ...   ...     ...     ...\n",
      "495    0       1    6   1.0    5881     636\n",
      "496    0       1    2   1.0    1171     640\n",
      "497    0       1    2   1.0    1171     640\n",
      "498    0       1    2   1.0    1086     640\n",
      "499    0       0    4   1.0    4931     640\n",
      "\n",
      "[500 rows x 6 columns]\n"
     ]
    }
   ],
   "source": [
    "print(df)"
   ]
  },
  {
   "cell_type": "code",
   "execution_count": 21,
   "id": "60bc89c8",
   "metadata": {},
   "outputs": [],
   "source": [
    "#Can I count something interesting?\n",
    "#we can count how many females there are within the dataset."
   ]
  },
  {
   "cell_type": "code",
   "execution_count": 22,
   "id": "932bce00",
   "metadata": {},
   "outputs": [],
   "source": [
    "#Can I find trends (e.g. high, low, increasing, decreasing, anomalies)?\n",
    "#We can see the trends whether or not the total charge is increasing or decreasing in females"
   ]
  },
  {
   "cell_type": "code",
   "execution_count": 23,
   "id": "8eb8cf41",
   "metadata": {},
   "outputs": [],
   "source": [
    "#Can I make a bar plot or a histogram?\n",
    "#We can make a bar plot or a histogram. However, I believe we should use a bar plot for this particular situation."
   ]
  },
  {
   "cell_type": "code",
   "execution_count": 24,
   "id": "03bcd927",
   "metadata": {},
   "outputs": [],
   "source": [
    "#Can I compare two related quantities?\n"
   ]
  },
  {
   "cell_type": "code",
   "execution_count": 25,
   "id": "b318c5ba",
   "metadata": {},
   "outputs": [],
   "source": [
    "#Can I make a scatterplot?\n",
    "#We can make a scatter plot for the total charge in females to see whether or not there was an upward trend (strong correlation value or our r-value)"
   ]
  },
  {
   "cell_type": "code",
   "execution_count": 26,
   "id": "e155bcf1",
   "metadata": {},
   "outputs": [],
   "source": [
    "#Can I make a time-series plot? \n",
    "#This is possible. However, in terms for this dataset probably will not be effective."
   ]
  },
  {
   "cell_type": "code",
   "execution_count": 27,
   "id": "baa79a62",
   "metadata": {},
   "outputs": [
    {
     "data": {
      "image/png": "[encoded data removed]",
      "text/plain": [
       "<Figure size 432x288 with 1 Axes>"
      ]
     },
     "metadata": {
      "needs_background": "light"
     },
     "output_type": "display_data"
    }
   ],
   "source": [
    "#Looking at the plots, what are some insights I can make?\n",
    "sns.countplot(data=df,\n",
    "              x='FEMALE')\n",
    "plt.xlabel('Male (0) or Female(1)')\n",
    "plt.ylabel('TOTCHG')\n",
    "plt.title('Length of Stay based on age')\n",
    "sns.despine()\n",
    "plt.show()"
   ]
  },
  {
   "cell_type": "code",
   "execution_count": 33,
   "id": "32a6ba22",
   "metadata": {},
   "outputs": [
    {
     "data": {
      "text/plain": [
       "<AxesSubplot:xlabel='FEMALE', ylabel='TOTCHG'>"
      ]
     },
     "execution_count": 33,
     "metadata": {},
     "output_type": "execute_result"
    },
    {
     "data": {
      "image/png": "[encoded data removed]",
      "text/plain": [
       "<Figure size 432x288 with 1 Axes>"
      ]
     },
     "metadata": {
      "needs_background": "light"
     },
     "output_type": "display_data"
    }
   ],
   "source": [
    "sns.barplot(data=df, x='FEMALE', y='TOTCHG')"
   ]
  },
  {
   "cell_type": "code",
   "execution_count": 28,
   "id": "de166ef6",
   "metadata": {},
   "outputs": [],
   "source": [
    "#Can I see any correlations within graph 1?\n",
    "The main correlation within these two graphs is that there seems to be a close distribution between male and female within the dataset. We can see that there seems to be a little bit more female count than males. Overall, pretty even."
   ]
  },
  {
   "cell_type": "code",
   "execution_count": null,
   "id": "4e6d1218",
   "metadata": {},
   "outputs": [],
   "source": [
    "#Can I see any correlations within graph 2?\n",
    "The main purpose of this bar plot graph shows that male has a higher total charge than female within this dataset."
   ]
  },
  {
   "cell_type": "code",
   "execution_count": 29,
   "id": "a057473b",
   "metadata": {},
   "outputs": [],
   "source": [
    "#Is there a hypothesis I can - and should - investigate further?\n",
    "The main hypothesis that we can investigate further is: What are the major expense or factor (for example length of stay, medications,different type of diseases and etc.) that make the total charge higher than females?"
   ]
  }
 ],
 "metadata": {
  "kernelspec": {
   "display_name": "Python 3",
   "language": "python",
   "name": "python3"
  },
  "language_info": {
   "codemirror_mode": {
    "name": "ipython",
    "version": 3
   },
   "file_extension": ".py",
   "mimetype": "text/x-python",
   "name": "python",
   "nbconvert_exporter": "python",
   "pygments_lexer": "ipython3",
   "version": "3.8.8"
  }
 },
 "nbformat": 4,
 "nbformat_minor": 5
}
